{
  "nbformat": 4,
  "nbformat_minor": 0,
  "metadata": {
    "colab": {
      "provenance": []
    },
    "kernelspec": {
      "name": "python3",
      "display_name": "Python 3"
    },
    "language_info": {
      "name": "python"
    }
  },
  "cells": [
    {
      "cell_type": "code",
      "execution_count": 1,
      "metadata": {
        "colab": {
          "base_uri": "https://localhost:8080/"
        },
        "id": "3-4Gpj2Y6UOv",
        "outputId": "4a973b44-89cc-4514-d35a-efb04498983b"
      },
      "outputs": [
        {
          "output_type": "stream",
          "name": "stdout",
          "text": [
            "1320.0円\n"
          ]
        }
      ],
      "source": [
        "def calculate_total(price, consumption_tax):\n",
        "  total = price + (price * consumption_tax)\n",
        "  return total\n",
        "result = calculate_total(1200, 0.1)\n",
        "print(f\"{result}円\")"
      ]
    }
  ]
}