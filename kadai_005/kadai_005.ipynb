{
  "nbformat": 4,
  "nbformat_minor": 0,
  "metadata": {
    "colab": {
      "provenance": []
    },
    "kernelspec": {
      "name": "python3",
      "display_name": "Python 3"
    },
    "language_info": {
      "name": "python"
    }
  },
  "cells": [
    {
      "cell_type": "code",
      "execution_count": 9,
      "metadata": {
        "colab": {
          "base_uri": "https://localhost:8080/"
        },
        "id": "gXJDWuuBf6Xy",
        "outputId": "6d95ed85-7420-48fa-8758-a454ecc1a372"
      },
      "outputs": [
        {
          "output_type": "stream",
          "name": "stdout",
          "text": [
            "75.0cm²\n"
          ]
        }
      ],
      "source": [
        "# 整数型と浮動小数点型の足し算\n",
        "top_base = 10\n",
        "bottom_base = 20\n",
        "height = 5\n",
        "area = (top_base + bottom_base) * height / 2\n",
        "print(f\"{area}cm²\")"
      ]
    }
  ]
}