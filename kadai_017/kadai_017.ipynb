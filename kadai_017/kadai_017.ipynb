{
  "nbformat": 4,
  "nbformat_minor": 0,
  "metadata": {
    "colab": {
      "provenance": []
    },
    "kernelspec": {
      "name": "python3",
      "display_name": "Python 3"
    },
    "language_info": {
      "name": "python"
    }
  },
  "cells": [
    {
      "cell_type": "markdown",
      "source": [
        "名前(name)と年齢(age)の属性を持つHumanクラスを作成してください。\n",
        "\n",
        "Humanクラスには、以下の条件で標準出力(print)するcheck_adultメソッドを追加してください。\n",
        "\n",
        "ageが20以上の場合に大人であること\n",
        "そうでない場合に大人でないこと\n",
        "Humanクラスのインスタンスを複数生成してリストに追加し、リストの要素数分だけcheck_adultメソッドを呼び出してください。"
      ],
      "metadata": {
        "id": "rtOh9fb19IPK"
      }
    },
    {
      "cell_type": "code",
      "source": [
        "class Human:\n",
        "    def __init__(self, name, age):\n",
        "        # 属性を定義する\n",
        "        self.name = name\n",
        "        self.age = age\n",
        "\n",
        "    # メソッドを定義する\n",
        "    def check_adult(self):\n",
        "        if self.age >= 20:\n",
        "            print(f\"{self.name}は大人である\")\n",
        "        else:\n",
        "            print(f\"{self.name}は大人ではない\")\n",
        "\n",
        "# Humanクラスのインスタンスを生成する\n",
        "taro = Human(\"侍太郎\", 36)\n",
        "hanako = Human(\"侍花子\", 16)\n",
        "\n",
        "# check_adultメソッドを呼び出す\n",
        "taro.check_adult()\n",
        "hanako.check_adult()"
      ],
      "metadata": {
        "colab": {
          "base_uri": "https://localhost:8080/"
        },
        "id": "_S6ZhSPJ9Np1",
        "outputId": "4422169e-15f3-418a-815b-a2bca2ad1e7c"
      },
      "execution_count": 4,
      "outputs": [
        {
          "output_type": "stream",
          "name": "stdout",
          "text": [
            "侍太郎は大人である\n",
            "侍花子は大人ではない\n"
          ]
        }
      ]
    }
  ]
}